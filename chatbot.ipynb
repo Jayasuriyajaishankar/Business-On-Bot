{
 "cells": [
  {
   "cell_type": "code",
   "execution_count": 26,
   "id": "4d189fff",
   "metadata": {},
   "outputs": [
    {
     "name": "stdout",
     "output_type": "stream",
     "text": [
      "CalcBOT:Hello user I'm CalcBOT. You can query any basic mathematical operations to me❤️\n",
      "USER:fghjkl\n",
      "BOT:Enter your option:\n",
      "                 0.quit\n",
      "                 1.addition\n",
      "                 2.subtract\n",
      "                 3.multiply\n",
      "                 4.division\n",
      "                 5.power\n",
      "                 6.root\n",
      "                 \n",
      "USER:4\n",
      "CalcBOT:Please enter the First operand\n",
      "USER:67\n",
      "CalcBOT:Please enter the Second operand\n",
      "USER:43\n",
      "CalcBOT:The quotient of 67 and 43 is 1.558139534883721\n",
      "CalcBOT:Do you want to continue?(yes/no)\n",
      "USER:no\n",
      "CalcBOT:aala vudra ebbha🏃‍♀️\n"
     ]
    }
   ],
   "source": [
    "print(\"CalcBOT:Hello user I'm CalcBOT. You can query any basic mathematical operations to me❤️\")\n",
    "user_input = input(\"USER:\")\n",
    "import math\n",
    "def math_bot():\n",
    "    while True:\n",
    "            # Get user input\n",
    "            print('''BOT:Enter your option:\n",
    "                 0.quit\n",
    "                 1.addition\n",
    "                 2.subtract\n",
    "                 3.multiply\n",
    "                 4.division\n",
    "                 5.power\n",
    "                 6.root\n",
    "                 ''')\n",
    "            user_input_1 = int(input(\"USER:\"))\n",
    "            if user_input_1 == 0:\n",
    "                print(\"Thank you.Goodbye!!\")\n",
    "                break\n",
    "\n",
    "            print(\"CalcBOT:Please enter the First operand\")    \n",
    "            operand1 = int(input(\"USER:\"))\n",
    "\n",
    "            print(\"CalcBOT:Please enter the Second operand\")    \n",
    "            operand2 = int(input(\"USER:\"))\n",
    "\n",
    "            # Perform the appropriate operation and print the result\n",
    "           \n",
    "                \n",
    "            if user_input_1 == 1:\n",
    "                result = operand1 + operand2\n",
    "                print(\"CalcBOT:The sum of\", operand1, \"and\", operand2, \"is\", result)\n",
    "            elif user_input_1 == 2:\n",
    "                result = operand1 - operand2\n",
    "                print(\"CalcBOT:The difference between\", operand1, \"and\", operand2, \"is\", result)\n",
    "            elif user_input_1 == 3:\n",
    "                result = operand1 * operand2\n",
    "                print(\"CalcBOT:The product of\", operand1, \"and\", operand2, \"is\", result)\n",
    "            elif user_input_1 == 4:\n",
    "                if operand2 == 0:\n",
    "                    print(\"CalcBOT:Cannot divide by zero or infinite\")\n",
    "                else:\n",
    "                    result = operand1 / operand2\n",
    "                    print(\"CalcBOT:The quotient of\", operand1, \"and\", operand2, \"is\", result)\n",
    "            elif user_input_1 == 5:\n",
    "                result = operand1**operand2\n",
    "                print(\"CalcBOT:The power of\", operand1, \"and\", operand2, \"is\", result)\n",
    "            elif user_input_1 == 6:\n",
    "                result = pow(operand1, 1/operand2)\n",
    "                print(\"CalcBOT:The root of\", operand1, \"to the\", operand2, \"is\", result)\n",
    "            else:\n",
    "                print(\"CalcBOT:Invalid operator.Try again\")\n",
    "            \n",
    "            \n",
    "            print(\"CalcBOT:Do you want to continue?(yes/no)\")\n",
    "            opt = input(\"USER:\")\n",
    "            if opt == \"no\":\n",
    "                print(\"CalcBOT:Thank you.Goodbye!!\")\n",
    "                break\n",
    "            else:\n",
    "                continue\n",
    "\n",
    "        \n",
    "# Call the chat bot function\n",
    "math_bot()"
   ]
  },
  {
   "cell_type": "code",
   "execution_count": null,
   "id": "839828ea",
   "metadata": {},
   "outputs": [],
   "source": [
    "\n"
   ]
  },
  {
   "cell_type": "code",
   "execution_count": null,
   "id": "9c41d3c7",
   "metadata": {},
   "outputs": [],
   "source": []
  }
 ],
 "metadata": {
  "kernelspec": {
   "display_name": "Python 3 (ipykernel)",
   "language": "python",
   "name": "python3"
  },
  "language_info": {
   "codemirror_mode": {
    "name": "ipython",
    "version": 3
   },
   "file_extension": ".py",
   "mimetype": "text/x-python",
   "name": "python",
   "nbconvert_exporter": "python",
   "pygments_lexer": "ipython3",
   "version": "3.9.16"
  }
 },
 "nbformat": 4,
 "nbformat_minor": 5
}
